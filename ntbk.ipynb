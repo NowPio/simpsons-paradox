{
 "cells": [
  {
   "cell_type": "code",
   "execution_count": 3,
   "metadata": {},
   "outputs": [],
   "source": [
    "# %%\n",
    "import warnings\n",
    "import pandas as pd\n",
    "import networkx as nx\n",
    "import matplotlib.pyplot as plt\n",
    "import statsmodels.api as sm\n",
    "from dowhy import CausalModel\n",
    "\n",
    "warnings.filterwarnings(\"ignore\")"
   ]
  },
  {
   "cell_type": "code",
   "execution_count": 4,
   "metadata": {},
   "outputs": [],
   "source": [
    "# %%\n",
    "# Load the data\n",
    "data = pd.read_csv(\"./data/simpsons_paradox_covid.csv\")"
   ]
  },
  {
   "cell_type": "code",
   "execution_count": 5,
   "metadata": {},
   "outputs": [
    {
     "name": "stdout",
     "output_type": "stream",
     "text": [
      "P(D=1|V=1) =  0.4107%\n",
      "P(D=1|V=0) =  0.1675%\n",
      "Naive effect of vaccination is: 0.24321894171585542 p.p.\n"
     ]
    }
   ],
   "source": [
    "# %%\n",
    "# Calculate a naive effect of vaccination on death\n",
    "prob_death_vaccinated = data[(data[\"outcome\"] == \"death\") & (\n",
    "    data[\"vaccine_status\"] == \"vaccinated\")].shape[0] / data[\n",
    "        data[\"vaccine_status\"] == \"vaccinated\"].shape[0]\n",
    "prob_death_unvaccinated = data[(data[\"outcome\"] == \"death\") & (\n",
    "    data[\"vaccine_status\"] == \"unvaccinated\")].shape[0] / data[\n",
    "        data[\"vaccine_status\"] == \"unvaccinated\"].shape[0]\n",
    "naive_effect = prob_death_vaccinated - prob_death_unvaccinated\n",
    "\n",
    "print(f\"P(D=1|V=1) = {prob_death_vaccinated: .4%}\\n\",\n",
    "      f\"P(D=1|V=0) = {prob_death_unvaccinated: .4%}\\n\",\n",
    "      f\"Naive effect of vaccination is: {naive_effect * 100} p.p.\",\n",
    "      sep=\"\")"
   ]
  },
  {
   "cell_type": "markdown",
   "metadata": {},
   "source": [
    " Calculate an effect of vaccination on death withing age groups"
   ]
  },
  {
   "cell_type": "code",
   "execution_count": 6,
   "metadata": {},
   "outputs": [
    {
     "name": "stdout",
     "output_type": "stream",
     "text": [
      "P(D=1|V=1, Age < 50) - P(D=1|V=0, Age < 50) = -0.009134203586696433 p.p.\n",
      "P(D=1|V=1, Age >= 50) - P(D=1|V=0, Age >= 50) = -4.274752576432825 p.p.\n"
     ]
    }
   ],
   "source": [
    "# %%\n",
    "# Probability of death conditional on being vaccinated and under 50\n",
    "prob_death_vaccinated_under50 = data.query(\n",
    "    \"outcome == 'death' & \\\n",
    "    vaccine_status == 'vaccinated' & \\\n",
    "    age_group == 'under 50'\").shape[0] / data.query(\n",
    "        \"vaccine_status == 'vaccinated' & age_group == 'under 50'\").shape[0]\n",
    "# Probability of death conditional on being vaccinated and over 50\n",
    "prob_death_vaccinated_over50 = data.query(\n",
    "    \"outcome == 'death' & \\\n",
    "    vaccine_status == 'vaccinated' & \\\n",
    "    age_group == '50 +'\").shape[0] / data.query(\n",
    "        \"vaccine_status == 'vaccinated' & age_group == '50 +'\").shape[0]\n",
    "# Probability of death conditional on being unvaccinated and under 50\n",
    "prob_death_unvaccinated_under50 = data.query(\n",
    "    \"outcome == 'death' & \\\n",
    "    vaccine_status == 'unvaccinated' & \\\n",
    "    age_group == 'under 50'\").shape[0] / data.query(\n",
    "        \"vaccine_status == 'unvaccinated' & age_group == 'under 50'\"\n",
    "        ).shape[0]\n",
    "# Probability of death conditional on being vaccinated and over 50\n",
    "prob_death_unvaccinated_over50 = data.query(\n",
    "    \"outcome == 'death' & \\\n",
    "    vaccine_status == 'unvaccinated' & \\\n",
    "    age_group == '50 +'\").shape[0] / data.query(\n",
    "        \"vaccine_status == 'unvaccinated' & age_group == '50 +'\").shape[0]\n",
    "\n",
    "print(f\"P(D=1|V=1, Age < 50) - P(D=1|V=0, Age < 50) = {\n",
    "    (prob_death_vaccinated_under50 - prob_death_unvaccinated_under50)\n",
    "    * 100} p.p.\",\n",
    "      f\"P(D=1|V=1, Age >= 50) - P(D=1|V=0, Age >= 50) = {\n",
    "          (prob_death_vaccinated_over50 - prob_death_unvaccinated_over50)\n",
    "          * 100} p.p.\",\n",
    "      sep=\"\\n\")"
   ]
  },
  {
   "cell_type": "markdown",
   "metadata": {},
   "source": [
    " The probability of death is higher among the vaccinated overall, but lower\n",
    "\n",
    " among the vaccinated within each age group. How is it possible for vaccines\n",
    "\n",
    " to appear harmful for the entire population, yet beneficial within each age\n",
    "\n",
    " group? It's called a Simpson's Paradox, and we'll solve it using a\n",
    "\n",
    " Directed Acyclic Graph (DAG)."
   ]
  },
  {
   "cell_type": "code",
   "execution_count": 7,
   "metadata": {},
   "outputs": [
    {
     "name": "stdout",
     "output_type": "stream",
     "text": [
      "Is the graph a DAG? True\n"
     ]
    }
   ],
   "source": [
    "# %%\n",
    "# Creating a DAG assuming age_group is a confounder\n",
    "dag = nx.DiGraph([(\"vaccinated\", \"death\"), (\"age_group\", \"vaccinated\"),\n",
    "                  (\"age_group\", \"death\")])\n",
    "# You can check if a graph is a DAG\n",
    "print(\"Is the graph a DAG?\", nx.is_directed_acyclic_graph(dag))"
   ]
  },
  {
   "cell_type": "code",
   "execution_count": 8,
   "metadata": {},
   "outputs": [],
   "source": [
    "# %%\n",
    "# Creating an alternative DAG assuming age_group is a mediator\n",
    "alternative_dag = nx.DiGraph([(\"vaccinated\", \"death\"),\n",
    "                              (\"vaccinated\", \"age_group\"),\n",
    "                              (\"age_group\", \"death\")])"
   ]
  },
  {
   "cell_type": "code",
   "execution_count": 9,
   "metadata": {},
   "outputs": [
    {
     "data": {
      "image/png": "[encoded data removed]",
      "text/plain": [
       "<Figure size 1200x700 with 2 Axes>"
      ]
     },
     "metadata": {},
     "output_type": "display_data"
    }
   ],
   "source": [
    "# %%\n",
    "# Declaring options for drawing DAGs\n",
    "options = {\n",
    "    \"with_labels\": True,\n",
    "    \"node_size\": 5000,\n",
    "    \"font_size\": 10,\n",
    "    \"width\": 2,\n",
    "    \"edge_color\": \"gray\",\n",
    "    \"alpha\": 0.6}\n",
    "\n",
    "fig, (ax1, ax2) = plt.subplots(1, 2, figsize=(12, 7))\n",
    "plt.suptitle(\"Simpson's Paradox\", fontsize=20)\n",
    "nx.draw(dag, pos=nx.planar_layout(dag),\n",
    "        node_color=['lightgreen', 'lightgreen', 'red'], ax=ax1,\n",
    "        **options)\n",
    "nx.draw(alternative_dag, pos=nx.planar_layout(alternative_dag),\n",
    "        node_color=['lightgreen', 'lightgreen', 'lightblue'], ax=ax2,\n",
    "        **options)\n",
    "ax1.set_title(\"Confounder\")\n",
    "ax2.set_title(\"Mediator\")\n",
    "plt.tight_layout()\n",
    "plt.show()"
   ]
  },
  {
   "cell_type": "markdown",
   "metadata": {},
   "source": [
    " Use back-door formula for computing an adjusted effect"
   ]
  },
  {
   "cell_type": "code",
   "execution_count": 10,
   "metadata": {},
   "outputs": [
    {
     "name": "stdout",
     "output_type": "stream",
     "text": [
      "Adjusted P(D=1|V=1) =  0.2138%\n",
      "Adjusted P(D=1|V=0) =  0.7121%\n",
      "Adjusted effect of vaccination is: -0.4982154745528143 p.p.\n"
     ]
    }
   ],
   "source": [
    "# %%\n",
    "# Fraction of people being under 50\n",
    "prob_under50 = data.query(\"age_group == 'under 50'\").shape[0] / data.shape[0]\n",
    "# Fraction of people being over 50\n",
    "prob_over50 = data.query(\"age_group == '50 +'\").shape[0] / data.shape[0]\n",
    "# Adjusted probability of death for vaccinated\n",
    "prob_death_vaccinated_adjusted = prob_death_vaccinated_under50 * prob_under50 \\\n",
    "    + prob_death_vaccinated_over50 * prob_over50\n",
    "# Adjusted probability of death for unvaccinated\n",
    "prob_death_unvaccinated_adjusted = prob_death_unvaccinated_under50 * \\\n",
    "    prob_under50 + prob_death_unvaccinated_over50 * prob_over50\n",
    "# Overall effect\n",
    "adjusted_effect = prob_death_vaccinated_adjusted - \\\n",
    "    prob_death_unvaccinated_adjusted\n",
    "\n",
    "print(f\"Adjusted P(D=1|V=1) = {prob_death_vaccinated_adjusted: .4%}\\n\",\n",
    "      f\"Adjusted P(D=1|V=0) = {prob_death_unvaccinated_adjusted: .4%}\\n\",\n",
    "      f\"Adjusted effect of vaccination is: {adjusted_effect * 100} p.p.\",\n",
    "      sep=\"\")\n"
   ]
  },
  {
   "cell_type": "markdown",
   "metadata": {},
   "source": [
    " Let's use DoWhy to solve the problem"
   ]
  },
  {
   "cell_type": "code",
   "execution_count": 11,
   "metadata": {},
   "outputs": [],
   "source": [
    "# %%\n",
    "# Binary encoding\n",
    "data_encoded = pd.DataFrame(columns=[\"vaccinated\", \"age_group\", \"death\"])\n",
    "data_encoded[\"death\"] = data[\"outcome\"].map({\"survived\": 0, \"death\": 1})\n",
    "data_encoded[\"vaccinated\"] = data[\"vaccine_status\"].map({\"unvaccinated\": 0,\n",
    "                                                         \"vaccinated\": 1})\n",
    "data_encoded[\"age_group\"] = data[\"age_group\"].map({\"under 50\": 0, \"50 +\": 1})"
   ]
  },
  {
   "cell_type": "code",
   "execution_count": 12,
   "metadata": {},
   "outputs": [],
   "source": [
    "# %%\n",
    "# Creating a CausalModel object for identification\n",
    "model = CausalModel(data=data_encoded, treatment=\"vaccinated\",\n",
    "                    outcome=\"death\", common_causes=\"age_group\")\n",
    "estimand = model.identify_effect()"
   ]
  },
  {
   "cell_type": "code",
   "execution_count": 13,
   "metadata": {},
   "outputs": [
    {
     "name": "stdout",
     "output_type": "stream",
     "text": [
      "Estimand type: nonparametric-ate\n",
      "\n",
      "### Estimand : 1\n",
      "Estimand name: backdoor\n",
      "Estimand expression:\n",
      "      d                          \n",
      "─────────────(E[death|age_group])\n",
      "d[vaccinated]                    \n",
      "Estimand assumption 1, Unconfoundedness: If U→{vaccinated} and U→death then P(death|vaccinated,age_group,U) = P(death|vaccinated,age_group)\n",
      "\n",
      "### Estimand : 2\n",
      "Estimand name: iv\n",
      "No such variable(s) found!\n",
      "\n",
      "### Estimand : 3\n",
      "Estimand name: frontdoor\n",
      "No such variable(s) found!\n",
      "\n"
     ]
    }
   ],
   "source": [
    "# %%\n",
    "print(estimand)"
   ]
  },
  {
   "cell_type": "code",
   "execution_count": 14,
   "metadata": {},
   "outputs": [
    {
     "name": "stdout",
     "output_type": "stream",
     "text": [
      "The backdoor variable is: ['age_group']\n",
      "propensity_score_weighting\n",
      "-0.49758533171532443 p.p.\n"
     ]
    }
   ],
   "source": [
    "# %%\n",
    "print(\"The backdoor variable is:\", estimand.get_backdoor_variables())\n",
    "# Estimating ATE by inverse probability weighting with stabilised weights\n",
    "estimate = model.estimate_effect(\n",
    "    identified_estimand=estimand,\n",
    "    method_name=\"backdoor.propensity_score_weighting\",\n",
    "    method_params={\"weighting_scheme\": \"ips_stabilized_weight\"})\n",
    "print(estimate.value * 100, \"p.p.\")"
   ]
  },
  {
   "cell_type": "markdown",
   "metadata": {},
   "source": [
    " What if age_group is not a confounder? It would imply that we believe\n",
    "\n",
    " age_group is not a common cause of the treatment and the outcome. In general,\n",
    "\n",
    " such a variable can either be removed if we think it doesn't play a role in\n",
    "\n",
    " any causal paths, or it can be specified as a mediator/moderator."
   ]
  },
  {
   "cell_type": "code",
   "execution_count": 15,
   "metadata": {},
   "outputs": [],
   "source": [
    "# %%\n",
    "# Specify the causal graph explicitly\n",
    "alternative_causal_graph = \"\"\"\n",
    "        digraph {\n",
    "            vaccinated -> age_group;\n",
    "            vaccinated -> death;\n",
    "            age_group -> death;\n",
    "        }\n",
    "\"\"\""
   ]
  },
  {
   "cell_type": "code",
   "execution_count": 16,
   "metadata": {},
   "outputs": [
    {
     "name": "stdout",
     "output_type": "stream",
     "text": [
      "Estimand type: nonparametric-ate\n",
      "\n",
      "### Estimand : 1\n",
      "Estimand name: backdoor\n",
      "Estimand expression:\n",
      "      d                \n",
      "─────────────(E[death])\n",
      "d[vaccinated]          \n",
      "Estimand assumption 1, Unconfoundedness: If U→{vaccinated} and U→death then P(death|vaccinated,,U) = P(death|vaccinated,)\n",
      "\n",
      "### Estimand : 2\n",
      "Estimand name: iv\n",
      "No such variable(s) found!\n",
      "\n",
      "### Estimand : 3\n",
      "Estimand name: frontdoor\n",
      "No such variable(s) found!\n",
      "\n"
     ]
    }
   ],
   "source": [
    "# %%\n",
    "# Repeat as above\n",
    "alternative_model = CausalModel(data=data_encoded, treatment=\"vaccinated\",\n",
    "                                outcome=\"death\",\n",
    "                                graph=alternative_causal_graph)\n",
    "alternative_estimand = alternative_model.identify_effect()\n",
    "print(alternative_estimand)"
   ]
  },
  {
   "cell_type": "code",
   "execution_count": 17,
   "metadata": {},
   "outputs": [
    {
     "name": "stdout",
     "output_type": "stream",
     "text": [
      "The backdoor variable is: []\n"
     ]
    }
   ],
   "source": [
    "# %%\n",
    "# No backdoor variables\n",
    "print(\"The backdoor variable is:\",\n",
    "      alternative_estimand.get_backdoor_variables())"
   ]
  },
  {
   "cell_type": "code",
   "execution_count": 18,
   "metadata": {},
   "outputs": [
    {
     "name": "stdout",
     "output_type": "stream",
     "text": [
      "generalized_linear_model\n",
      "0.24321894171401007 p.p.\n"
     ]
    }
   ],
   "source": [
    "# %%\n",
    "alternative_estimate = alternative_model.estimate_effect(\n",
    "    identified_estimand=alternative_estimand,\n",
    "    method_name=\"backdoor.generalized_linear_model\",\n",
    "    method_params={\"glm_family\": sm.families.Binomial()})\n",
    "print(alternative_estimate.value * 100, \"p.p.\")"
   ]
  },
  {
   "cell_type": "markdown",
   "metadata": {},
   "source": [
    " To summarise: If there is a confounder (a variable that affects both the\n",
    "\n",
    " treatment and the outcome), we should adjust for it to ensure identification.\n",
    "\n",
    " If a variable is not a confounder, we shouldn't adjust for it unless we want\n",
    "\n",
    " to estimate the direct effect (if it's a mediator)."
   ]
  }
 ],
 "metadata": {
  "language_info": {
   "codemirror_mode": {
    "name": "ipython",
    "version": 3
   },
   "file_extension": ".py",
   "mimetype": "text/x-python",
   "name": "python",
   "nbconvert_exporter": "python",
   "pygments_lexer": "ipython3",
   "version": 3
  }
 },
 "nbformat": 4,
 "nbformat_minor": 2
}
